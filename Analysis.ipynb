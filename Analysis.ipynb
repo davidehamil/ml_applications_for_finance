{
 "cells": [
  {
   "cell_type": "code",
   "execution_count": 167,
   "metadata": {
    "collapsed": false
   },
   "outputs": [],
   "source": [
    "import numpy as np\n",
    "import pandas as pd\n",
    "import seaborn as sns\n",
    "import matplotlib.pyplot as plt\n",
    "%matplotlib inline"
   ]
  },
  {
   "cell_type": "code",
   "execution_count": 168,
   "metadata": {
    "collapsed": false
   },
   "outputs": [],
   "source": [
    "df = pd.read_csv('final_clean.csv').sort_values('GAME_ID')\n",
    "df = df.dropna()\n",
    "df['GAME_DATE'] = pd.to_datetime(df['GAME_DATE_HOME'])\n",
    "#df = df.set_index('GAME_ID')\n",
    "\n",
    "# Define a target column\n",
    "df['AVG_SPREAD_mean'] = df['PLUS_MINUS_mean_HOME'] - df['PLUS_MINUS_mean_AWAY']\n",
    "df['ACTUAL_SPREAD'] = df['PLUS_MINUS_HOME']"
   ]
  },
  {
   "cell_type": "code",
   "execution_count": 169,
   "metadata": {
    "collapsed": false
   },
   "outputs": [],
   "source": [
    "def select_season(season):\n",
    "    prefix = {'2012-13':'212', '2013-14':'213', '2014-15':'214',\n",
    "             '2015-16':'215', '2016-17':'216'}\n",
    "    return df[df['GAME_ID'].astype(str).str.startswith(prefix[season])]\n",
    "\n",
    "def select_seasons(seasons):\n",
    "    result = pd.DataFrame()\n",
    "    for season in seasons:\n",
    "        result = pd.concat([result, select_season(season)])\n",
    "    return result\n",
    "\n",
    "df_train = select_seasons(['2012-13','2013-14','2014-15'])\n",
    "df_val = select_seasons(['2015-16'])\n",
    "df_test = select_seasons(['2016-17'])"
   ]
  },
  {
   "cell_type": "code",
   "execution_count": 170,
   "metadata": {
    "collapsed": false
   },
   "outputs": [],
   "source": [
    "# Preprocessing here\n",
    "from sklearn.preprocessing import StandardScaler\n",
    "\n",
    "numerical_cols = [c for c in df_train.columns if 'mean' in c or 'avg' in c and 'PLUS_MINUS' not in c and 'AVG_SPREAD' not in c]\n",
    "\n",
    "for col in numerical_cols:\n",
    "    scl = StandardScaler()\n",
    "    df_train[col] = scl.fit_transform(df_train[col].as_matrix().reshape(-1,1)) # may want to fit on both validation and train\n",
    "    # assign val and test\n",
    "    df_val[col] = scl.transform(df_val[col].as_matrix().reshape(-1,1))\n",
    "    df_test[col] = scl.transform(df_test[col].as_matrix().reshape(-1,1))"
   ]
  },
  {
   "cell_type": "code",
   "execution_count": 171,
   "metadata": {
    "collapsed": false
   },
   "outputs": [],
   "source": [
    "def betting_metric(y_pred, y_actual):\n",
    "    # +1 for good outcome, -1 for bad outcome\n",
    "    return (2*(y_pred < y_actual).astype(int) - 1)\n",
    "\n",
    "# quick test\n",
    "# betting_metric(np.array([2,3,-3,-2]),np.array([3,2,-2,-3]))"
   ]
  },
  {
   "cell_type": "code",
   "execution_count": 172,
   "metadata": {
    "collapsed": false
   },
   "outputs": [
    {
     "name": "stdout",
     "output_type": "stream",
     "text": [
      "0.172880237545\n",
      " 1    3555\n",
      "-1    2507\n",
      "dtype: int64\n",
      "(6062L,)\n",
      "0.586440118773\n"
     ]
    }
   ],
   "source": [
    "# One metric is fraction correct (accuracy score)\n",
    "def fraction_correct(y_pred, y_actual):\n",
    "    print y_pred.shape\n",
    "    counts =  pd.Series(betting_metric(y_pred, y_actual).ravel()).value_counts()\n",
    "    return float(counts.loc[1])/counts.sum()\n",
    "\n",
    "# This is the \"base modeL\"\n",
    "print betting_metric(df['AVG_SPREAD_mean'], df['PLUS_MINUS_HOME']).mean()\n",
    "print betting_metric(df['AVG_SPREAD_mean'], df['PLUS_MINUS_HOME']).value_counts()\n",
    "\n",
    "print fraction_correct(df['AVG_SPREAD_mean'], df['PLUS_MINUS_HOME'])\n",
    "# Not meaningful, but interesting to see whether AWAY point spread helps.\n",
    "# print betting_metric(df['PLUS_MINUS_mean_HOME'], df['PLUS_MINUS_HOME']).mean()"
   ]
  },
  {
   "cell_type": "code",
   "execution_count": 173,
   "metadata": {
    "collapsed": false
   },
   "outputs": [],
   "source": [
    "numerical_cols = list(set(numerical_cols) - set(['PLUS_MINUS_mean_AWAY', 'PLUS_MINUS_mean_HOME','ACTUAL_SPREAD']))"
   ]
  },
  {
   "cell_type": "code",
   "execution_count": 192,
   "metadata": {
    "collapsed": false
   },
   "outputs": [
    {
     "name": "stdout",
     "output_type": "stream",
     "text": [
      "Linear model\n",
      "(3635L, 1L)\n",
      "0.505639614856\n",
      "\n",
      "Lasso\n",
      "(3635L,)\n",
      "0.506912279175\n",
      "0.672\n"
     ]
    }
   ],
   "source": [
    "from sklearn.linear_model import LinearRegression, Lasso\n",
    "\n",
    "X_train = df_train[numerical_cols].as_matrix()\n",
    "y_train = df_train['ACTUAL_SPREAD'].as_matrix().reshape(-1,1)\n",
    "linreg = LinearRegression()\n",
    "lasso = Lasso(alpha=0.1)\n",
    "linreg.fit(X_train, y_train)\n",
    "lasso.fit(X_train, y_train)\n",
    "#print linreg.coef_\n",
    "print \"Linear model\"\n",
    "y_train_pred = linreg.predict(X_train)\n",
    "print fraction_correct(y_train_pred, y_train)\n",
    "\n",
    "print \"\"\n",
    "print \"Lasso\"\n",
    "y_train_pred = lasso.predict(X_train)\n",
    "print fraction_correct(y_train_pred, y_train)\n",
    "print np.sum(lasso.coef_==0).astype(float) / lasso.coef_.shape[0]"
   ]
  },
  {
   "cell_type": "code",
   "execution_count": 175,
   "metadata": {
    "collapsed": false
   },
   "outputs": [
    {
     "data": {
      "text/plain": [
       "<matplotlib.collections.PathCollection at 0x10498550>"
      ]
     },
     "execution_count": 175,
     "metadata": {},
     "output_type": "execute_result"
    },
    {
     "data": {
      "image/png": "[encoded data removed]",
      "text/plain": [
       "<matplotlib.figure.Figure at 0x13ba52e8>"
      ]
     },
     "metadata": {},
     "output_type": "display_data"
    }
   ],
   "source": [
    "plt.scatter(y_train_pred, y_train)"
   ]
  },
  {
   "cell_type": "code",
   "execution_count": 196,
   "metadata": {
    "collapsed": false
   },
   "outputs": [
    {
     "name": "stdout",
     "output_type": "stream",
     "text": [
      "Random Forest\n",
      "(3635L,)\n",
      "0.498282137782\n"
     ]
    },
    {
     "data": {
      "text/plain": [
       "<matplotlib.collections.PathCollection at 0x13db06a0>"
      ]
     },
     "execution_count": 196,
     "metadata": {},
     "output_type": "execute_result"
    },
    {
     "data": {
      "image/png": "[encoded data removed]",
      "text/plain": [
       "<matplotlib.figure.Figure at 0x14079b00>"
      ]
     },
     "metadata": {},
     "output_type": "display_data"
    }
   ],
   "source": [
    "from sklearn.ensemble import RandomForestRegressor\n",
    "\n",
    "rf = RandomForestRegressor() # todo: hyperparameter search...\n",
    "\n",
    "rf.fit(X_train, y_train.ravel())\n",
    "print \"Random Forest\"\n",
    "y_train_pred = rf.predict(X_train)\n",
    "print fraction_correct(y_train_pred, y_train)\n",
    "plt.scatter(y_train, y_train_pred)"
   ]
  },
  {
   "cell_type": "code",
   "execution_count": 24,
   "metadata": {
    "collapsed": false
   },
   "outputs": [
    {
     "data": {
      "text/plain": [
       "<matplotlib.legend.Legend at 0xcc21b00>"
      ]
     },
     "execution_count": 24,
     "metadata": {},
     "output_type": "execute_result"
    },
    {
     "data": {
      "image/png": "[encoded data removed]",
      "text/plain": [
       "<matplotlib.figure.Figure at 0xe7666d8>"
      ]
     },
     "metadata": {},
     "output_type": "display_data"
    }
   ],
   "source": [
    "sns.distplot(df['PLUS_MINUS_mean_AWAY'].dropna(), label='predicted')\n",
    "sns.distplot(df['PLUS_MINUS_mean'].dropna(), label='actual')\n",
    "plt.legend()"
   ]
  },
  {
   "cell_type": "code",
   "execution_count": null,
   "metadata": {
    "collapsed": true
   },
   "outputs": [],
   "source": [
    "# StandardScaler for rescaling numerical columns\n",
    "# Exploratory plots and sanity checks\n"
   ]
  }
 ],
 "metadata": {
  "kernelspec": {
   "display_name": "Python 2",
   "language": "python",
   "name": "python2"
  },
  "language_info": {
   "codemirror_mode": {
    "name": "ipython",
    "version": 2
   },
   "file_extension": ".py",
   "mimetype": "text/x-python",
   "name": "python",
   "nbconvert_exporter": "python",
   "pygments_lexer": "ipython2",
   "version": "2.7.13"
  }
 },
 "nbformat": 4,
 "nbformat_minor": 2
}
