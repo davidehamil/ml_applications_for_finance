{
 "cells": [
  {
   "cell_type": "code",
   "execution_count": 11,
   "metadata": {
    "collapsed": false
   },
   "outputs": [],
   "source": [
    "import numpy as np\n",
    "import pandas as pd\n",
    "import seaborn as sns\n",
    "import matplotlib.pyplot as plt\n",
    "%matplotlib inline\n",
    "import os \n",
    "os.chdir(\"/Users/michaelyang/Desktop/NYU/2017.Spring/Machine Learning/Project/ml_applications_for_the_nba/\")"
   ]
  },
  {
   "cell_type": "code",
   "execution_count": 12,
   "metadata": {
    "collapsed": false
   },
   "outputs": [],
   "source": [
    "df = pd.read_csv('final_clean.csv').sort_values('GAME_ID')\n",
    "df = df.dropna()\n",
    "df['GAME_DATE'] = pd.to_datetime(df['GAME_DATE_HOME'])\n",
    "#df = df.set_index('GAME_ID')\n",
    "\n",
    "# Define a target column\n",
    "df['AVG_SPREAD_mean'] = df['PLUS_MINUS_mean_HOME'] - df['PLUS_MINUS_mean_AWAY']\n",
    "df['ACTUAL_SPREAD'] = df['PLUS_MINUS_HOME']"
   ]
  },
  {
   "cell_type": "code",
   "execution_count": 382,
   "metadata": {
    "collapsed": false
   },
   "outputs": [
    {
     "name": "stdout",
     "output_type": "stream",
     "text": [
      "Index([u'GAME_ID', u'GAME_DATE_HOME', u'MATCHUP_HOME', u'PLUS_MINUS_HOME',\n       u'PLUS_MINUS_AWAY', u'TEAM_ID_HOME', u'TEAM_ABBREVIATION_HOME',\n       u'TEAM_NAME_HOME', u'AST_mean_HOME', u'BLK_mean_HOME',\n       u'DREB_mean_HOME', u'OREB_mean_HOME', u'PF_mean_HOME', u'REB_mean_HOME',\n       u'STL_mean_HOME', u'TOV_mean_HOME', u'FGA_mean_HOME', u'FGM_mean_HOME',\n       u'FG3A_mean_HOME', u'FG3M_mean_HOME'],\n      dtype='object')\nIndex([u'FTA_mean_HOME', u'FTM_mean_HOME', u'PLUS_MINUS_mean_HOME',\n       u'FG_pct_HOME', u'FG3_pct_HOME', u'FT_pct_HOME',\n       u'OFF_RATING_mean_HOME', u'DEF_RATING_mean_HOME',\n       u'NET_RATING_mean_HOME', u'AST_PCT_mean_HOME', u'AST_TOV_mean_HOME',\n       u'AST_RATIO_mean_HOME', u'OREB_PCT_mean_HOME', u'DREB_PCT_mean_HOME',\n       u'REB_PCT_mean_HOME', u'TM_TOV_PCT_mean_HOME', u'TS_PCT_mean_HOME',\n       u'EFG_PCT_mean_HOME', u'PACE_mean_HOME', u'PIE_mean_HOME'],\n      dtype='object')\nIndex([u'USG_PCT_mean_HOME', u'FTA_RATE_mean_HOME', u'OPP_EFG_PCT_mean_HOME',\n       u'OPP_FTA_RATE_mean_HOME', u'OPP_OREB_PCT_mean_HOME',\n       u'OPP_TOV_PCT_mean_HOME', u'TM_TOV_PCT_mean_R_HOME', u'BLK_mean_R_HOME',\n       u'BLKA_mean_HOME', u'OPP_PTS_2ND_CHANCE_mean_HOME',\n       u'OPP_PTS_FB_mean_HOME', u'OPP_PTS_OFF_TOV_mean_HOME',\n       u'OPP_PTS_PAINT_mean_HOME', u'PF_mean_R_HOME', u'PFD_mean_HOME',\n       u'PTS_2ND_CHANCE_mean_HOME', u'PTS_FB_mean_HOME',\n       u'PTS_OFF_TOV_mean_HOME', u'PTS_PAINT_mean_HOME',\n       u'PCT_AST_2PM_mean_HOME'],\n      dtype='object')\n"
     ]
    }
   ],
   "source": [
    "def select_season(season):\n",
    "    prefix = {'2012-13':'212', '2013-14':'213', '2014-15':'214',\n",
    "             '2015-16':'215', '2016-17':'216'}\n",
    "    return df[df['GAME_ID'].astype(str).str.startswith(prefix[season])]\n",
    "\n",
    "def select_seasons(seasons):\n",
    "    result = pd.DataFrame()\n",
    "    for season in seasons:\n",
    "        result = pd.concat([result, select_season(season)])\n",
    "    return result\n",
    "\n",
    "df_train = select_seasons(['2012-13','2013-14','2014-15'])\n",
    "df_val = select_seasons(['2015-16'])\n",
    "df_test = select_seasons(['2016-17'])\n",
    "print df_train.keys()[:20]\n",
    "print df_train.keys()[20:40]\n",
    "print df_train.keys()[40:60]"
   ]
  },
  {
   "cell_type": "code",
   "execution_count": 14,
   "metadata": {
    "collapsed": false
   },
   "outputs": [],
   "source": [
    "# Preprocessing here\n",
    "from sklearn.preprocessing import StandardScaler\n",
    "\n",
    "numerical_cols = [c for c in df_train.columns if 'mean' in c or 'avg' in c and 'PLUS_MINUS' not in c and 'AVG_SPREAD' not in c]\n",
    "\n",
    "for col in numerical_cols:\n",
    "    scl = StandardScaler()\n",
    "    df_train[col] = scl.fit_transform(df_train[col].as_matrix().reshape(-1,1)) # may want to fit on both validation and train\n",
    "    # assign val and test\n",
    "    df_val[col] = scl.transform(df_val[col].as_matrix().reshape(-1,1))\n",
    "    df_test[col] = scl.transform(df_test[col].as_matrix().reshape(-1,1))"
   ]
  },
  {
   "cell_type": "code",
   "execution_count": 15,
   "metadata": {
    "collapsed": false
   },
   "outputs": [
    {
     "data": {
      "text/plain": [
       "array([ 1, -1,  1, -1])"
      ]
     },
     "execution_count": 15,
     "metadata": {},
     "output_type": "execute_result"
    }
   ],
   "source": [
    "def betting_metric(y_pred, y_actual):\n",
    "    # +1 for good outcome, -1 for bad outcome\n",
    "    return (2*(y_pred < y_actual).astype(int) - 1)\n",
    "\n",
    "# quick test \n",
    "betting_metric(np.array([2,3,-3,-2]),np.array([3,2,-2,-3]))"
   ]
  },
  {
   "cell_type": "code",
   "execution_count": 16,
   "metadata": {
    "collapsed": false
   },
   "outputs": [
    {
     "name": "stdout",
     "output_type": "stream",
     "text": [
      "0.172880237545\n 1    3555\n-1    2507\ndtype: int64\n(6062,)\n0.586440118773\n"
     ]
    }
   ],
   "source": [
    "# One metric is fraction correct (accuracy score)\n",
    "def fraction_correct(y_pred, y_actual):\n",
    "    # print y_pred.shape\n",
    "    counts =  pd.Series(betting_metric(y_pred, y_actual).ravel()).value_counts()\n",
    "    return float(counts.loc[1])/counts.sum()\n",
    "\n",
    "# This is the \"base modeL\"\n",
    "print betting_metric(df['AVG_SPREAD_mean'], df['PLUS_MINUS_HOME']).mean()\n",
    "print betting_metric(df['AVG_SPREAD_mean'], df['PLUS_MINUS_HOME']).value_counts()\n",
    "\n",
    "print fraction_correct(df['AVG_SPREAD_mean'], df['PLUS_MINUS_HOME'])\n",
    "# Not meaningful, but interesting to see whether AWAY point spread helps.\n",
    "# print betting_metric(df['PLUS_MINUS_mean_HOME'], df['PLUS_MINUS_HOME']).mean()"
   ]
  },
  {
   "cell_type": "code",
   "execution_count": 16,
   "metadata": {
    "collapsed": false
   },
   "outputs": [],
   "source": [
    "numerical_cols = list(set(numerical_cols) - set(['PLUS_MINUS_mean_AWAY', 'PLUS_MINUS_mean_HOME','ACTUAL_SPREAD']))"
   ]
  },
  {
   "cell_type": "code",
   "execution_count": 414,
   "metadata": {
    "collapsed": false
   },
   "outputs": [
    {
     "name": "stdout",
     "output_type": "stream",
     "text": [
      "Linear model\n0.533265958437\n\nLasso\n(1213, 1)\n0.508622242279\n0.68\n"
     ]
    }
   ],
   "source": [
    "from sklearn.linear_model import LinearRegression, Lasso\n",
    "\n",
    "X_train = df_train[numerical_cols].as_matrix()\n",
    "y_train = df_train['ACTUAL_SPREAD'].as_matrix().reshape(-1,1)\n",
    "X_val = df_val[numerical_cols].as_matrix()\n",
    "y_val = df_val['ACTUAL_SPREAD'].as_matrix()#.reshape(-1,1)\n",
    "X_test = df_test[numerical_cols].as_matrix()\n",
    "y_test = df_test['ACTUAL_SPREAD'].as_matrix().reshape(-1,1)\n",
    "\n",
    "linreg = LinearRegression()\n",
    "lasso = Lasso(alpha=0.1)\n",
    "linreg.fit(X_train, y_train)\n",
    "lasso.fit(X_train, y_train)\n",
    "#print linreg.coef_\n",
    "print \"Linear model\"\n",
    "y_train_pred = linreg.predict(X_train)\n",
    "print np.array([np.sign(linreg.predict(X_val)) == np.sign(y_val)]).astype(int).mean()\n",
    "\n",
    "print \"\"\n",
    "print \"Lasso\"\n",
    "y_train_pred = lasso.predict(X_train)\n",
    "print fraction_correct(linreg.predict(X_val), y_val)\n",
    "print np.sum(lasso.coef_==0).astype(float) / lasso.coef_.shape[0]"
   ]
  },
  {
   "cell_type": "code",
   "execution_count": 19,
   "metadata": {
    "collapsed": false
   },
   "outputs": [
    {
     "data": {
      "text/plain": [
       "<matplotlib.collections.PathCollection at 0x10e732190>"
      ]
     },
     "execution_count": 19,
     "metadata": {},
     "output_type": "execute_result"
    },
    {
     "data": {
      "image/png": "[encoded data removed]",
      "text/plain": [
       "<matplotlib.figure.Figure at 0x1097c6910>"
      ]
     },
     "metadata": {},
     "output_type": "display_data"
    }
   ],
   "source": [
    "plt.scatter(y_train_pred, y_train)"
   ]
  },
  {
   "cell_type": "code",
   "execution_count": 21,
   "metadata": {
    "collapsed": false
   },
   "outputs": [
    {
     "name": "stdout",
     "output_type": "stream",
     "text": [
      "Random Forest\n(3635,)\n"
     ]
    },
    {
     "name": "stdout",
     "output_type": "stream",
     "text": [
      "0.499779047129\n"
     ]
    },
    {
     "data": {
      "text/plain": [
       "<matplotlib.collections.PathCollection at 0x109c2e250>"
      ]
     },
     "execution_count": 21,
     "metadata": {},
     "output_type": "execute_result"
    },
    {
     "data": {
      "image/png": "[encoded data removed]",
      "text/plain": [
       "<matplotlib.figure.Figure at 0x11ca5a650>"
      ]
     },
     "metadata": {},
     "output_type": "display_data"
    }
   ],
   "source": [
    "from sklearn.ensemble import RandomForestRegressor\n",
    "\n",
    "rf = RandomForestRegressor() # todo: hyperparameter search...\n",
    "\n",
    "rf.fit(X_train, y_train.ravel())\n",
    "print \"Random Forest\"\n",
    "y_train_pred = rf.predict(X_train)\n",
    "print fraction_correct(y_train_pred, y_train)\n",
    "plt.scatter(y_train, y_train_pred)"
   ]
  },
  {
   "cell_type": "code",
   "execution_count": 24,
   "metadata": {
    "collapsed": false
   },
   "outputs": [
    {
     "data": {
      "text/plain": [
       "<matplotlib.legend.Legend at 0x11d0210d0>"
      ]
     },
     "execution_count": 24,
     "metadata": {},
     "output_type": "execute_result"
    },
    {
     "data": {
      "image/png": "[encoded data removed]",
      "text/plain": [
       "<matplotlib.figure.Figure at 0x10a232210>"
      ]
     },
     "metadata": {},
     "output_type": "display_data"
    }
   ],
   "source": [
    "sns.distplot(df['PLUS_MINUS_mean_AWAY'].dropna(), label='predicted')\n",
    "sns.distplot(df['PLUS_MINUS_mean_HOME'].dropna(), label='actual')\n",
    "plt.legend()"
   ]
  },
  {
   "cell_type": "code",
   "execution_count": 428,
   "metadata": {},
   "outputs": [
    {
     "data": {
      "text/plain": [
       "0.33333333333333331"
      ]
     },
     "execution_count": 428,
     "metadata": {},
     "output_type": "execute_result"
    }
   ],
   "source": [
    "# give a range which the prediction can be away from actual\n",
    "def evaluate_prediction(y_pred,y_actual):\n",
    "    \n",
    "    delta = 10 # the range\n",
    "    score = np.logical_and((y_pred < y_actual),\\\n",
    "    (y_pred > y_actual-delta)).astype(float)\n",
    "    \n",
    "    return sum(score)/len(score)\n",
    "# evaluate_prediction(np.array([-1,-2,-5]),np.array([11,3,-10])) test"
   ]
  },
  {
   "cell_type": "code",
   "execution_count": 425,
   "metadata": {
    "collapsed": true
   },
   "outputs": [],
   "source": [
    "import xgboost as xgb\n",
    "from  functools import partial\n",
    "\n",
    "dtrain = xgb.DMatrix(X_train,(y_train))\n",
    "param = {'max_depth': 4, 'silent': 1}\n",
    "num_round = 150\n",
    "\n",
    "def learn_rate(n,t_n):\n",
    "    return 1/(np.sqrt(n+.1))\n",
    "\n",
    "def hinge(preds, dtrain):\n",
    "    labels = dtrain.get_label()\n",
    "    m = len(labels)\n",
    "    a =  (labels <= preds).astype(int)\n",
    "    # print preds\n",
    "    # print(a[10:30])\n",
    "    return a*np.ones(m), np.zeros(m)\n",
    "\n",
    "\n",
    "def log(preds,dtrain):\n",
    "    labels = dtrain.get_label()\n",
    "    m = labels*preds\n",
    "    return 1/(1+np.exp(m)) , 1/(np.exp(-m/2)+np.exp(m/2))**2\n",
    "\n",
    "def softmax(preds,dtrain):\n",
    "    labels = dtrain.get_label()\n",
    "    m = labels - preds\n",
    "    return 1/(np.exp(-m/2)+np.exp(m/2))**2, \\\n",
    "            2/(np.exp(-2*m/3)+np.exp(m/3))**3 \\\n",
    "                - 1/(np.exp(-m/2)+np.exp(m/2))**2\n",
    "\n",
    "def skewed_sq(preds, dtrain,skewness,flat_region):\n",
    "    labels = dtrain.get_label()\n",
    "    b = skewness\n",
    "    spread = flat_region\n",
    "    a = (1)*(preds>labels) + \\\n",
    "            b*(preds<= labels-spread)\n",
    "    return a*(preds - labels), a*np.ones(len(labels))"
   ]
  },
  {
   "cell_type": "code",
   "execution_count": 429,
   "metadata": {},
   "outputs": [],
   "source": [
    "# finding optimal parameter\n",
    "# for skew in [0.1,0.2,0.3]:\n",
    "#     for flat in [3,4,5]:\n",
    "#         skewed_sq = partial(skewed_sq,skewness = skew, flat_region = flat)\n",
    "#         bst = xgb.train(params=param, dtrain=dtrain, num_boost_round=num_round, obj \\\n",
    "#                 = skewed_sq)\n",
    "#         BT = bst.predict(xgb.DMatrix(X_val))\n",
    "#         plt.scatter(BT,(y_val))\n",
    "#         plt.plot(np.arange(-40,40),np.arange(-40,40),c = \"y\")\n",
    "#         plt.show()\n",
    "#         print \"flat= \",flat,\"skew= \",skew, evaluate_prediction(BT,y_val)"
   ]
  },
  {
   "cell_type": "code",
   "execution_count": 403,
   "metadata": {},
   "outputs": [
    {
     "data": {
      "text/plain": [
       "0.2877164056059357"
      ]
     },
     "execution_count": 403,
     "metadata": {},
     "output_type": "execute_result"
    },
    {
     "data": {
      "image/png": "[encoded data removed]",
      "text/plain": [
       "<matplotlib.figure.Figure at 0x123516650>"
      ]
     },
     "metadata": {},
     "output_type": "display_data"
    }
   ],
   "source": [
    "BT = bst.predict(xgb.DMatrix(X_val))\n",
    "plt.scatter(BT,(y_val))\n",
    "plt.plot(np.arange(-40,40),np.arange(-40,40),c = \"y\")\n",
    "# fraction_correct(bst.predict(xgb.DMatrix(X_val)),(y_val))\n",
    "evaluate_prediction(bst.predict(xgb.DMatrix(X_val)),y_val)"
   ]
  },
  {
   "cell_type": "code",
   "execution_count": 176,
   "metadata": {},
   "outputs": [
    {
     "data": {
      "text/plain": [
       "LogisticRegression(C=1.0, class_weight=None, dual=False, fit_intercept=True,\n          intercept_scaling=1, max_iter=100, multi_class='ovr', n_jobs=1,\n          penalty='l2', random_state=None, solver='liblinear', tol=0.0001,\n          verbose=0, warm_start=False)"
      ]
     },
     "execution_count": 176,
     "metadata": {},
     "output_type": "execute_result"
    }
   ],
   "source": [
    "from sklearn.linear_model import LogisticRegression\n",
    "LogR = LogisticRegression()\n",
    "LogR.fit(X_train,np.sign(y_train).reshape(-1))"
   ]
  },
  {
   "cell_type": "code",
   "execution_count": 171,
   "metadata": {},
   "outputs": [
    {
     "data": {
      "text/plain": [
       "0.66859027205276178"
      ]
     },
     "execution_count": 171,
     "metadata": {},
     "output_type": "execute_result"
    }
   ],
   "source": [
    "np.array([LogR.predict(X_val) == np.sign(y_val)]).mean()"
   ]
  },
  {
   "cell_type": "code",
   "execution_count": 461,
   "metadata": {},
   "outputs": [
    {
     "name": "stdout",
     "output_type": "stream",
     "text": [
      "c =  0.0015 0.687551525144\n"
     ]
    },
    {
     "name": "stdout",
     "output_type": "stream",
     "text": [
      "c =  0.002 0.684253915911\n"
     ]
    },
    {
     "name": "stdout",
     "output_type": "stream",
     "text": [
      "c =  0.0025 0.684253915911\n"
     ]
    },
    {
     "data": {
      "image/png": "[encoded data removed]",
      "text/plain": [
       "<matplotlib.figure.Figure at 0x110b294d0>"
      ]
     },
     "metadata": {},
     "output_type": "display_data"
    }
   ],
   "source": [
    "from sklearn.svm import LinearSVC as svm\n",
    "\n",
    "for c in [0.0015,0.002,0.0025]:\n",
    "    SVM = svm(C = c,penalty='l2',loss='hinge')\n",
    "    SVM.fit(X_train,np.sign(y_train))\n",
    "    print 'c = ',c, (SVM.predict(X_val) == np.sign(y_val)).astype(int).mean()\n"
   ]
  },
  {
   "cell_type": "code",
   "execution_count": 488,
   "metadata": {},
   "outputs": [
    {
     "name": "stdout",
     "output_type": "stream",
     "text": [
      "57\n"
     ]
    },
    {
     "data": {
      "image/png": "[encoded data removed]",
      "text/plain": [
       "<matplotlib.figure.Figure at 0x104336990>"
      ]
     },
     "metadata": {},
     "output_type": "display_data"
    }
   ],
   "source": [
    "plt.plot(np.arange(0,len(SVM.coef_.reshape(-1)),1),SVM.coef_.reshape(-1))\n",
    "# number of features that are zeros\n",
    "print sum(SVM.coef_.reshape(-1) < 10**-5)"
   ]
  },
  {
   "cell_type": "code",
   "execution_count": 495,
   "metadata": {
    "collapsed": false
   },
   "outputs": [
    {
     "name": "stdout",
     "output_type": "stream",
     "text": [
      "(array([  4,   7,  10,  17,  18,  20,  22,  26,  33,  34,  39,  42,  46,\n        50,  62,  67,  68,  73,  74,  78,  79,  88,  92,  95, 103, 109,\n       117, 118, 121]),)\n"
     ]
    },
    {
     "data": {
      "text/plain": [
       "29"
      ]
     },
     "execution_count": 495,
     "metadata": {},
     "output_type": "execute_result"
    }
   ],
   "source": [
    "significant = np.where((np.abs(SVM.coef_.reshape(-1)) > 0.02))\n",
    "print np.where((np.abs(SVM.coef_.reshape(-1)) > 0.02))\n",
    "# the support vectors\n",
    "len(significant[0])"
   ]
  },
  {
   "cell_type": "code",
   "execution_count": 500,
   "metadata": {
    "collapsed": false
   },
   "outputs": [
    {
     "name": "stdout",
     "output_type": "stream",
     "text": [
      "Index([u'FTM_mean_HOME', u'FTA_mean_HOME', u'BLKA_mean_HOME',\n       u'DREB_mean_HOME', u'OFF_RATING_mean_HOME', u'REB_mean_HOME',\n       u'FGM_mean_HOME', u'PTS_2ND_CHANCE_mean_HOME', u'FG3M_mean_HOME',\n       u'PACE_mean_HOME', u'OPP_PTS_FB_mean_HOME', u'PFD_mean_HOME',\n       u'STL_mean_HOME', u'TOV_mean_HOME', u'AST_RATIO_mean_HOME',\n       u'BLK_mean_HOME', u'BLK_mean_R_HOME', u'AST_mean_HOME',\n       u'NET_RATING_mean_HOME'],\n      dtype='object')\nIndex([u'BLKA_mean_AWAY', u'OPP_PTS_2ND_CHANCE_mean_AWAY', u'FGA_mean_AWAY',\n       u'FTA_mean_AWAY', u'PTS_PAINT_mean_AWAY', u'PTS_FB_mean_AWAY',\n       u'FG3A_mean_AWAY', u'PFD_mean_AWAY', u'FTM_mean_AWAY'],\n      dtype='object')\n"
     ]
    }
   ],
   "source": [
    "important_features = df_train[numerical_cols].keys()[significant[0]]\n",
    "print important_features[important_features.str.contains(\"HOME\")]\n",
    "print important_features[important_features.str.contains(\"AWAY\")]"
   ]
  },
  {
   "cell_type": "code",
   "execution_count": 560,
   "metadata": {},
   "outputs": [],
   "source": [
    "from collections import Counter\n",
    "games_wrong = df_val[(SVM.predict(X_val) != np.sign(y_val))][\"MATCHUP_HOME\"]\n",
    "games_wrong_dict = games_wrong.to_dict()\n",
    "for key,value in games_wrong_dict.items():\n",
    "    games_wrong_dict[key] = value[0:3]\n",
    "games_wrong_dict = Counter(games_wrong_dict).most_common()\n",
    "dict = {}; temp = ''\n",
    "for v,k in games_wrong_dict:\n",
    "    if (temp != k):\n",
    "        dict[k] = 0\n",
    "        temp = k\n",
    "    dict[temp] += 1\n",
    "games_wrong_dict = dict"
   ]
  },
  {
   "cell_type": "code",
   "execution_count": null,
   "metadata": {},
   "outputs": [],
   "source": [
    "games_right = df_val[(SVM.predict(X_val) == np.sign(y_val))][\"MATCHUP_HOME\"]\n",
    "games_right_dict = games_right.to_dict()\n",
    "for key,value in games_right_dict.items():\n",
    "    games_right_dict[key] = value[0:3]\n",
    "games_right_dict = Counter(games_right_dict).most_common()\n",
    "dict = {}; temp = ''\n",
    "for v,k in games_right_dict:\n",
    "    if (temp != k):\n",
    "        dict[k] = 0\n",
    "        temp = k\n",
    "    dict[temp] += 1\n",
    "games_right_dict = dict"
   ]
  },
  {
   "cell_type": "code",
   "execution_count": 640,
   "metadata": {
    "collapsed": false
   },
   "outputs": [
    {
     "data": {
      "text/plain": [
       "[('SAS', 40),\n ('GSW', 38),\n ('PHI', 34),\n ('CLE', 32),\n ('TOR', 31),\n ('DAL', 31),\n ('OKC', 31),\n ('CHA', 30),\n ('MIA', 29),\n ('LAC', 29),\n ('ATL', 28),\n ('BOS', 28),\n ('BKN', 28),\n ('POR', 28),\n ('LAL', 28),\n ('MIL', 27),\n ('NYK', 27),\n ('UTA', 27),\n ('IND', 27),\n ('DET', 26),\n ('MEM', 26),\n ('PHX', 26),\n ('HOU', 24),\n ('MIN', 23),\n ('ORL', 23),\n ('CHI', 23),\n ('NOP', 23),\n ('DEN', 22),\n ('SAC', 21),\n ('WAS', 20)]"
      ]
     },
     "execution_count": 640,
     "metadata": {},
     "output_type": "execute_result"
    }
   ],
   "source": [
    "games_wrong_dict\n",
    "sorted(games_wrong_dict.items(), key=lambda x: x[1],reverse=True)\n",
    "sorted(games_right_dict.items(), key=lambda x: x[1],reverse=True)"
   ]
  },
  {
   "cell_type": "code",
   "execution_count": 705,
   "metadata": {},
   "outputs": [],
   "source": [
    "team_wrong = df_val[(SVM.predict(X_val) != np.sign(y_val))][\"MATCHUP_HOME\"]\n",
    "ind_w = team_wrong[team_wrong.str[:3].str.contains(\"MIN\")].index\n",
    "WAS_im_features_w = df_val.ix[ind_w][important_features].as_matrix()"
   ]
  },
  {
   "cell_type": "code",
   "execution_count": 706,
   "metadata": {},
   "outputs": [],
   "source": [
    "team_right = df_val[(SVM.predict(X_val) == np.sign(y_val))][\"MATCHUP_HOME\"]\n",
    "ind_r = team_right[team_right.str[:3].str.contains(\"MIN\")].index\n",
    "WAS_im_features_r = df_val.ix[ind_r][important_features].as_matrix()"
   ]
  },
  {
   "cell_type": "code",
   "execution_count": 707,
   "metadata": {},
   "outputs": [
    {
     "data": {
      "text/plain": [
       "[4, 22, 39, 42, 109, 18]"
      ]
     },
     "execution_count": 707,
     "metadata": {},
     "output_type": "execute_result"
    },
    {
     "data": {
      "image/png": "[encoded data removed]",
      "text/plain": [
       "<matplotlib.figure.Figure at 0x115256910>"
      ]
     },
     "metadata": {},
     "output_type": "display_data"
    }
   ],
   "source": [
    "WAS_features_w = df_val[numerical_cols].ix[ind_w].as_matrix()\n",
    "WAS_features_r = df_val[numerical_cols].ix[ind_r].as_matrix()\n",
    "\n",
    "SVM_coef = SVM.coef_.reshape(-1)\n",
    "feature_score_w = WAS_features_w*SVM_coef\n",
    "feature_score_r = WAS_features_r*SVM_coef\n",
    "\n",
    "counts = {}\n",
    "for i in range(0,WAS_features_r.shape[0]):\n",
    "    for j in range(0,WAS_features_w.shape[0]):\n",
    "        plt.plot(feature_score_w[j,:]-feature_score_r[i,:])\n",
    "        where = np.where(np.absolute(feature_score_w[j,:]-feature_score_r[i,:]) > 0.3)\n",
    "        for k in range(0,len(where[0])):\n",
    "           if where[0][k] not in counts.keys():\n",
    "             counts[where[0][k]] = 1 \n",
    "           else:\n",
    "             counts[where[0][k]] +=1\n",
    "counts\n",
    "sorted(counts.items(), key=lambda x: x[1],reverse=True)\n",
    "counts.keys()[0:6]"
   ]
  },
  {
   "cell_type": "code",
   "execution_count": 708,
   "metadata": {},
   "outputs": [
    {
     "name": "stdout",
     "output_type": "stream",
     "text": [
      "Index([u'FTM_mean_HOME', u'FTA_mean_HOME', u'BLKA_mean_HOME',\n       u'DREB_mean_HOME', u'OFF_RATING_mean_HOME', u'REB_mean_HOME',\n       u'FGM_mean_HOME', u'PTS_2ND_CHANCE_mean_HOME', u'FG3M_mean_HOME',\n       u'PACE_mean_HOME', u'OPP_PTS_FB_mean_HOME', u'PFD_mean_HOME',\n       u'STL_mean_HOME', u'TOV_mean_HOME', u'AST_RATIO_mean_HOME',\n       u'BLK_mean_HOME', u'BLK_mean_R_HOME', u'AST_mean_HOME',\n       u'NET_RATING_mean_HOME'],\n      dtype='object')\nIndex([u'BLKA_mean_AWAY', u'OPP_PTS_2ND_CHANCE_mean_AWAY', u'FGA_mean_AWAY',\n       u'FTA_mean_AWAY', u'PTS_PAINT_mean_AWAY', u'PTS_FB_mean_AWAY',\n       u'FG3A_mean_AWAY', u'PFD_mean_AWAY', u'FTM_mean_AWAY'],\n      dtype='object')\n"
     ]
    },
    {
     "data": {
      "text/plain": [
       "Index([u'BLKA_mean_AWAY', u'FTA_mean_AWAY', u'PTS_FB_mean_AWAY',\n       u'FG3A_mean_AWAY', u'AVG_SPREAD_mean', u'FTA_mean_HOME'],\n      dtype='object')"
      ]
     },
     "execution_count": 708,
     "metadata": {},
     "output_type": "execute_result"
    }
   ],
   "source": [
    "print important_features[important_features.str.contains(\"HOME\")]\n",
    "print important_features[important_features.str.contains(\"AWAY\")]\n",
    "df_val[numerical_cols].keys()[counts.keys()[0:6]]"
   ]
  },
  {
   "cell_type": "code",
   "execution_count": 688,
   "metadata": {},
   "outputs": [
    {
     "data": {
      "text/plain": [
       "0.32563891178895299"
      ]
     },
     "execution_count": 688,
     "metadata": {},
     "output_type": "execute_result"
    }
   ],
   "source": [
    "X_train_less = df_train[numerical_cols][df_val[numerical_cols].keys()[counts.keys()[0:6]]].as_matrix()\n",
    "X_val_less = df_val[numerical_cols][df_val[numerical_cols].keys()[counts.keys()[0:6]]].as_matrix()\n",
    "\n",
    "SVM_less_features = svm(C=0.001,loss=\"hinge\")\n",
    "SVM_less_features.fit(X_train_less,np.sign(y_train))\n",
    "(SVM_less_features.predict(X_val_less) != np.sign(y_val)).astype(float).mean()"
   ]
  },
  {
   "cell_type": "code",
   "execution_count": 724,
   "metadata": {},
   "outputs": [
    {
     "data": {
      "text/plain": [
       "[<matplotlib.lines.Line2D at 0x1112bb650>]"
      ]
     },
     "execution_count": 724,
     "metadata": {},
     "output_type": "execute_result"
    },
    {
     "data": {
      "image/png": "[encoded data removed]",
      "text/plain": [
       "<matplotlib.figure.Figure at 0x1112bb150>"
      ]
     },
     "metadata": {},
     "output_type": "display_data"
    }
   ],
   "source": [
    "plt.plot(df_train[df_train[\"MATCHUP_HOME\"].str[:3].str.contains(\"MIN\")][\"BLKA_mean_AWAY\"].as_matrix()\n",
    "         )\n",
    "plt.plot(df_train[df_train[\"MATCHUP_HOME\"].str[:3].str.contains(\"MIN\")][\"AVG_SPREAD_mean\"].as_matrix()\n",
    "         )"
   ]
  },
  {
   "cell_type": "code",
   "execution_count": 660,
   "metadata": {},
   "outputs": [
    {
     "data": {
      "text/plain": [
       "(array([ 17,  18,  26,  74, 118, 121]),)"
      ]
     },
     "execution_count": 660,
     "metadata": {},
     "output_type": "execute_result"
    }
   ],
   "source": [
    "np.where(np.absolute(feature_score_w[0,:]-feature_score_r[5,:]) > 0.2)"
   ]
  },
  {
   "cell_type": "code",
   "execution_count": 614,
   "metadata": {},
   "outputs": [
    {
     "data": {
      "text/html": [
       "<div>\n",
       "<table border=\"1\" class=\"dataframe\">\n",
       "  <thead>\n",
       "    <tr style=\"text-align: right;\">\n",
       "      <th></th>\n",
       "      <th>GAME_ID</th>\n",
       "      <th>GAME_DATE_HOME</th>\n",
       "      <th>MATCHUP_HOME</th>\n",
       "      <th>PLUS_MINUS_HOME</th>\n",
       "      <th>PLUS_MINUS_AWAY</th>\n",
       "      <th>TEAM_ID_HOME</th>\n",
       "      <th>TEAM_ABBREVIATION_HOME</th>\n",
       "      <th>TEAM_NAME_HOME</th>\n",
       "      <th>AST_mean_HOME</th>\n",
       "      <th>BLK_mean_HOME</th>\n",
       "      <th>...</th>\n",
       "      <th>PCT_PTS_FB_mean_AWAY</th>\n",
       "      <th>PCT_PTS_FT_mean_AWAY</th>\n",
       "      <th>PCT_PTS_OFF_TOV_mean_AWAY</th>\n",
       "      <th>PCT_PTS_PAINT_mean_AWAY</th>\n",
       "      <th>PCT_UAST_2PM_mean_AWAY</th>\n",
       "      <th>PCT_UAST_3PM_mean_AWAY</th>\n",
       "      <th>PCT_UAST_FGM_mean_AWAY</th>\n",
       "      <th>GAME_DATE</th>\n",
       "      <th>AVG_SPREAD_mean</th>\n",
       "      <th>ACTUAL_SPREAD</th>\n",
       "    </tr>\n",
       "  </thead>\n",
       "  <tbody>\n",
       "    <tr>\n",
       "      <th>615</th>\n",
       "      <td>21500034</td>\n",
       "      <td>2015-10-31</td>\n",
       "      <td>WAS vs. NYK</td>\n",
       "      <td>-7</td>\n",
       "      <td>7</td>\n",
       "      <td>1610612764</td>\n",
       "      <td>WAS</td>\n",
       "      <td>Washington Wizards</td>\n",
       "      <td>21.000000</td>\n",
       "      <td>7.000000</td>\n",
       "      <td>...</td>\n",
       "      <td>0.162000</td>\n",
       "      <td>0.213000</td>\n",
       "      <td>0.177000</td>\n",
       "      <td>0.442500</td>\n",
       "      <td>0.522500</td>\n",
       "      <td>0.083500</td>\n",
       "      <td>0.438000</td>\n",
       "      <td>2015-10-31</td>\n",
       "      <td>-4.000000</td>\n",
       "      <td>-7</td>\n",
       "    </tr>\n",
       "    <tr>\n",
       "      <th>500</th>\n",
       "      <td>21500061</td>\n",
       "      <td>2015-11-04</td>\n",
       "      <td>WAS vs. SAS</td>\n",
       "      <td>3</td>\n",
       "      <td>-3</td>\n",
       "      <td>1610612764</td>\n",
       "      <td>WAS</td>\n",
       "      <td>Washington Wizards</td>\n",
       "      <td>19.666667</td>\n",
       "      <td>5.666667</td>\n",
       "      <td>...</td>\n",
       "      <td>0.069500</td>\n",
       "      <td>0.137000</td>\n",
       "      <td>0.123000</td>\n",
       "      <td>0.474750</td>\n",
       "      <td>0.515250</td>\n",
       "      <td>0.062500</td>\n",
       "      <td>0.446750</td>\n",
       "      <td>2015-11-04</td>\n",
       "      <td>-10.083333</td>\n",
       "      <td>3</td>\n",
       "    </tr>\n",
       "    <tr>\n",
       "      <th>838</th>\n",
       "      <td>21500139</td>\n",
       "      <td>2015-11-14</td>\n",
       "      <td>WAS vs. ORL</td>\n",
       "      <td>9</td>\n",
       "      <td>-9</td>\n",
       "      <td>1610612764</td>\n",
       "      <td>WAS</td>\n",
       "      <td>Washington Wizards</td>\n",
       "      <td>21.857143</td>\n",
       "      <td>5.142857</td>\n",
       "      <td>...</td>\n",
       "      <td>0.135900</td>\n",
       "      <td>0.155900</td>\n",
       "      <td>0.193000</td>\n",
       "      <td>0.422800</td>\n",
       "      <td>0.518600</td>\n",
       "      <td>0.102500</td>\n",
       "      <td>0.417400</td>\n",
       "      <td>2015-11-14</td>\n",
       "      <td>-8.742857</td>\n",
       "      <td>9</td>\n",
       "    </tr>\n",
       "    <tr>\n",
       "      <th>1017</th>\n",
       "      <td>21500158</td>\n",
       "      <td>2015-11-17</td>\n",
       "      <td>WAS vs. MIL</td>\n",
       "      <td>29</td>\n",
       "      <td>-29</td>\n",
       "      <td>1610612764</td>\n",
       "      <td>WAS</td>\n",
       "      <td>Washington Wizards</td>\n",
       "      <td>22.750000</td>\n",
       "      <td>5.250000</td>\n",
       "      <td>...</td>\n",
       "      <td>0.117900</td>\n",
       "      <td>0.190000</td>\n",
       "      <td>0.215400</td>\n",
       "      <td>0.463200</td>\n",
       "      <td>0.445900</td>\n",
       "      <td>0.064700</td>\n",
       "      <td>0.372400</td>\n",
       "      <td>2015-11-17</td>\n",
       "      <td>-2.300000</td>\n",
       "      <td>29</td>\n",
       "    </tr>\n",
       "    <tr>\n",
       "      <th>294</th>\n",
       "      <td>21500209</td>\n",
       "      <td>2015-11-24</td>\n",
       "      <td>WAS vs. IND</td>\n",
       "      <td>-17</td>\n",
       "      <td>17</td>\n",
       "      <td>1610612764</td>\n",
       "      <td>WAS</td>\n",
       "      <td>Washington Wizards</td>\n",
       "      <td>22.900000</td>\n",
       "      <td>4.500000</td>\n",
       "      <td>...</td>\n",
       "      <td>0.136846</td>\n",
       "      <td>0.169308</td>\n",
       "      <td>0.195231</td>\n",
       "      <td>0.360846</td>\n",
       "      <td>0.513462</td>\n",
       "      <td>0.104615</td>\n",
       "      <td>0.420000</td>\n",
       "      <td>2015-11-24</td>\n",
       "      <td>-6.853846</td>\n",
       "      <td>-17</td>\n",
       "    </tr>\n",
       "    <tr>\n",
       "      <th>600</th>\n",
       "      <td>21500269</td>\n",
       "      <td>2015-12-02</td>\n",
       "      <td>WAS vs. LAL</td>\n",
       "      <td>-4</td>\n",
       "      <td>4</td>\n",
       "      <td>1610612764</td>\n",
       "      <td>WAS</td>\n",
       "      <td>Washington Wizards</td>\n",
       "      <td>22.000000</td>\n",
       "      <td>4.133333</td>\n",
       "      <td>...</td>\n",
       "      <td>0.109765</td>\n",
       "      <td>0.199706</td>\n",
       "      <td>0.142529</td>\n",
       "      <td>0.365000</td>\n",
       "      <td>0.554882</td>\n",
       "      <td>0.163471</td>\n",
       "      <td>0.463647</td>\n",
       "      <td>2015-12-02</td>\n",
       "      <td>4.384314</td>\n",
       "      <td>-4</td>\n",
       "    </tr>\n",
       "    <tr>\n",
       "      <th>387</th>\n",
       "      <td>21500284</td>\n",
       "      <td>2015-12-04</td>\n",
       "      <td>WAS vs. PHX</td>\n",
       "      <td>3</td>\n",
       "      <td>-3</td>\n",
       "      <td>1610612764</td>\n",
       "      <td>WAS</td>\n",
       "      <td>Washington Wizards</td>\n",
       "      <td>22.125000</td>\n",
       "      <td>4.000000</td>\n",
       "      <td>...</td>\n",
       "      <td>0.152737</td>\n",
       "      <td>0.160947</td>\n",
       "      <td>0.164263</td>\n",
       "      <td>0.411947</td>\n",
       "      <td>0.578947</td>\n",
       "      <td>0.193474</td>\n",
       "      <td>0.478579</td>\n",
       "      <td>2015-12-04</td>\n",
       "      <td>-5.161184</td>\n",
       "      <td>3</td>\n",
       "    </tr>\n",
       "    <tr>\n",
       "      <th>700</th>\n",
       "      <td>21500321</td>\n",
       "      <td>2015-12-09</td>\n",
       "      <td>WAS vs. HOU</td>\n",
       "      <td>-6</td>\n",
       "      <td>6</td>\n",
       "      <td>1610612764</td>\n",
       "      <td>WAS</td>\n",
       "      <td>Washington Wizards</td>\n",
       "      <td>22.000000</td>\n",
       "      <td>3.578947</td>\n",
       "      <td>...</td>\n",
       "      <td>0.151545</td>\n",
       "      <td>0.206091</td>\n",
       "      <td>0.179591</td>\n",
       "      <td>0.422682</td>\n",
       "      <td>0.499000</td>\n",
       "      <td>0.208591</td>\n",
       "      <td>0.418636</td>\n",
       "      <td>2015-12-09</td>\n",
       "      <td>0.566986</td>\n",
       "      <td>-6</td>\n",
       "    </tr>\n",
       "    <tr>\n",
       "      <th>693</th>\n",
       "      <td>21500399</td>\n",
       "      <td>2015-12-19</td>\n",
       "      <td>WAS vs. CHA</td>\n",
       "      <td>8</td>\n",
       "      <td>-8</td>\n",
       "      <td>1610612764</td>\n",
       "      <td>WAS</td>\n",
       "      <td>Washington Wizards</td>\n",
       "      <td>22.583333</td>\n",
       "      <td>3.541667</td>\n",
       "      <td>...</td>\n",
       "      <td>0.088000</td>\n",
       "      <td>0.172520</td>\n",
       "      <td>0.165120</td>\n",
       "      <td>0.370240</td>\n",
       "      <td>0.518240</td>\n",
       "      <td>0.150840</td>\n",
       "      <td>0.416680</td>\n",
       "      <td>2015-12-19</td>\n",
       "      <td>-8.910000</td>\n",
       "      <td>8</td>\n",
       "    </tr>\n",
       "    <tr>\n",
       "      <th>474</th>\n",
       "      <td>21500410</td>\n",
       "      <td>2015-12-21</td>\n",
       "      <td>WAS vs. SAC</td>\n",
       "      <td>14</td>\n",
       "      <td>-14</td>\n",
       "      <td>1610612764</td>\n",
       "      <td>WAS</td>\n",
       "      <td>Washington Wizards</td>\n",
       "      <td>22.720000</td>\n",
       "      <td>3.560000</td>\n",
       "      <td>...</td>\n",
       "      <td>0.167037</td>\n",
       "      <td>0.166593</td>\n",
       "      <td>0.174593</td>\n",
       "      <td>0.461963</td>\n",
       "      <td>0.452667</td>\n",
       "      <td>0.120778</td>\n",
       "      <td>0.381444</td>\n",
       "      <td>2015-12-21</td>\n",
       "      <td>-1.943704</td>\n",
       "      <td>14</td>\n",
       "    </tr>\n",
       "    <tr>\n",
       "      <th>363</th>\n",
       "      <td>21500490</td>\n",
       "      <td>2016-01-01</td>\n",
       "      <td>WAS vs. ORL</td>\n",
       "      <td>12</td>\n",
       "      <td>-12</td>\n",
       "      <td>1610612764</td>\n",
       "      <td>WAS</td>\n",
       "      <td>Washington Wizards</td>\n",
       "      <td>23.333333</td>\n",
       "      <td>3.600000</td>\n",
       "      <td>...</td>\n",
       "      <td>0.118375</td>\n",
       "      <td>0.142906</td>\n",
       "      <td>0.180906</td>\n",
       "      <td>0.440969</td>\n",
       "      <td>0.501313</td>\n",
       "      <td>0.115406</td>\n",
       "      <td>0.421375</td>\n",
       "      <td>2016-01-01</td>\n",
       "      <td>-5.558333</td>\n",
       "      <td>12</td>\n",
       "    </tr>\n",
       "    <tr>\n",
       "      <th>353</th>\n",
       "      <td>21500617</td>\n",
       "      <td>2016-01-18</td>\n",
       "      <td>WAS vs. POR</td>\n",
       "      <td>-10</td>\n",
       "      <td>10</td>\n",
       "      <td>1610612764</td>\n",
       "      <td>WAS</td>\n",
       "      <td>Washington Wizards</td>\n",
       "      <td>23.871795</td>\n",
       "      <td>3.743590</td>\n",
       "      <td>...</td>\n",
       "      <td>0.099349</td>\n",
       "      <td>0.156349</td>\n",
       "      <td>0.134395</td>\n",
       "      <td>0.377651</td>\n",
       "      <td>0.521302</td>\n",
       "      <td>0.231837</td>\n",
       "      <td>0.445930</td>\n",
       "      <td>2016-01-18</td>\n",
       "      <td>-0.344067</td>\n",
       "      <td>-10</td>\n",
       "    </tr>\n",
       "    <tr>\n",
       "      <th>203</th>\n",
       "      <td>21500630</td>\n",
       "      <td>2016-01-20</td>\n",
       "      <td>WAS vs. MIA</td>\n",
       "      <td>19</td>\n",
       "      <td>-19</td>\n",
       "      <td>1610612764</td>\n",
       "      <td>WAS</td>\n",
       "      <td>Washington Wizards</td>\n",
       "      <td>23.900000</td>\n",
       "      <td>3.725000</td>\n",
       "      <td>...</td>\n",
       "      <td>0.108357</td>\n",
       "      <td>0.174310</td>\n",
       "      <td>0.156714</td>\n",
       "      <td>0.447905</td>\n",
       "      <td>0.537786</td>\n",
       "      <td>0.072667</td>\n",
       "      <td>0.453143</td>\n",
       "      <td>2016-01-20</td>\n",
       "      <td>-2.721429</td>\n",
       "      <td>19</td>\n",
       "    </tr>\n",
       "    <tr>\n",
       "      <th>443</th>\n",
       "      <td>21500654</td>\n",
       "      <td>2016-02-18</td>\n",
       "      <td>WAS vs. UTA</td>\n",
       "      <td>14</td>\n",
       "      <td>-14</td>\n",
       "      <td>1610612764</td>\n",
       "      <td>WAS</td>\n",
       "      <td>Washington Wizards</td>\n",
       "      <td>23.980392</td>\n",
       "      <td>3.843137</td>\n",
       "      <td>...</td>\n",
       "      <td>0.094712</td>\n",
       "      <td>0.182288</td>\n",
       "      <td>0.164788</td>\n",
       "      <td>0.415288</td>\n",
       "      <td>0.583038</td>\n",
       "      <td>0.194308</td>\n",
       "      <td>0.488788</td>\n",
       "      <td>2016-02-18</td>\n",
       "      <td>-4.051659</td>\n",
       "      <td>14</td>\n",
       "    </tr>\n",
       "    <tr>\n",
       "      <th>563</th>\n",
       "      <td>21500693</td>\n",
       "      <td>2016-01-28</td>\n",
       "      <td>WAS vs. DEN</td>\n",
       "      <td>-4</td>\n",
       "      <td>4</td>\n",
       "      <td>1610612764</td>\n",
       "      <td>WAS</td>\n",
       "      <td>Washington Wizards</td>\n",
       "      <td>23.883721</td>\n",
       "      <td>3.674419</td>\n",
       "      <td>...</td>\n",
       "      <td>0.125478</td>\n",
       "      <td>0.183717</td>\n",
       "      <td>0.154370</td>\n",
       "      <td>0.437000</td>\n",
       "      <td>0.449022</td>\n",
       "      <td>0.182565</td>\n",
       "      <td>0.392804</td>\n",
       "      <td>2016-01-28</td>\n",
       "      <td>1.682508</td>\n",
       "      <td>-4</td>\n",
       "    </tr>\n",
       "    <tr>\n",
       "      <th>767</th>\n",
       "      <td>21500877</td>\n",
       "      <td>2016-02-28</td>\n",
       "      <td>WAS vs. CLE</td>\n",
       "      <td>14</td>\n",
       "      <td>-14</td>\n",
       "      <td>1610612764</td>\n",
       "      <td>WAS</td>\n",
       "      <td>Washington Wizards</td>\n",
       "      <td>23.842105</td>\n",
       "      <td>4.052632</td>\n",
       "      <td>...</td>\n",
       "      <td>0.118807</td>\n",
       "      <td>0.154965</td>\n",
       "      <td>0.159825</td>\n",
       "      <td>0.398053</td>\n",
       "      <td>0.519860</td>\n",
       "      <td>0.138158</td>\n",
       "      <td>0.420193</td>\n",
       "      <td>2016-02-28</td>\n",
       "      <td>-7.912281</td>\n",
       "      <td>14</td>\n",
       "    </tr>\n",
       "    <tr>\n",
       "      <th>762</th>\n",
       "      <td>21500924</td>\n",
       "      <td>2016-03-05</td>\n",
       "      <td>WAS vs. IND</td>\n",
       "      <td>-1</td>\n",
       "      <td>1</td>\n",
       "      <td>1610612764</td>\n",
       "      <td>WAS</td>\n",
       "      <td>Washington Wizards</td>\n",
       "      <td>23.786885</td>\n",
       "      <td>4.049180</td>\n",
       "      <td>...</td>\n",
       "      <td>0.133097</td>\n",
       "      <td>0.172210</td>\n",
       "      <td>0.187710</td>\n",
       "      <td>0.396516</td>\n",
       "      <td>0.523484</td>\n",
       "      <td>0.227952</td>\n",
       "      <td>0.462548</td>\n",
       "      <td>2016-03-05</td>\n",
       "      <td>-3.382337</td>\n",
       "      <td>-1</td>\n",
       "    </tr>\n",
       "    <tr>\n",
       "      <th>14</th>\n",
       "      <td>21500989</td>\n",
       "      <td>2016-03-14</td>\n",
       "      <td>WAS vs. DET</td>\n",
       "      <td>43</td>\n",
       "      <td>-43</td>\n",
       "      <td>1610612764</td>\n",
       "      <td>WAS</td>\n",
       "      <td>Washington Wizards</td>\n",
       "      <td>23.723077</td>\n",
       "      <td>4.000000</td>\n",
       "      <td>...</td>\n",
       "      <td>0.111939</td>\n",
       "      <td>0.161061</td>\n",
       "      <td>0.155303</td>\n",
       "      <td>0.433591</td>\n",
       "      <td>0.593364</td>\n",
       "      <td>0.217091</td>\n",
       "      <td>0.503045</td>\n",
       "      <td>2016-03-14</td>\n",
       "      <td>-3.428671</td>\n",
       "      <td>43</td>\n",
       "    </tr>\n",
       "    <tr>\n",
       "      <th>13</th>\n",
       "      <td>21501073</td>\n",
       "      <td>2016-03-25</td>\n",
       "      <td>WAS vs. MIN</td>\n",
       "      <td>-3</td>\n",
       "      <td>3</td>\n",
       "      <td>1610612764</td>\n",
       "      <td>WAS</td>\n",
       "      <td>Washington Wizards</td>\n",
       "      <td>23.971831</td>\n",
       "      <td>3.929577</td>\n",
       "      <td>...</td>\n",
       "      <td>0.130085</td>\n",
       "      <td>0.212423</td>\n",
       "      <td>0.157887</td>\n",
       "      <td>0.428225</td>\n",
       "      <td>0.424535</td>\n",
       "      <td>0.148338</td>\n",
       "      <td>0.386690</td>\n",
       "      <td>2016-03-25</td>\n",
       "      <td>2.774648</td>\n",
       "      <td>-3</td>\n",
       "    </tr>\n",
       "    <tr>\n",
       "      <th>411</th>\n",
       "      <td>21501194</td>\n",
       "      <td>2016-04-10</td>\n",
       "      <td>WAS vs. CHA</td>\n",
       "      <td>15</td>\n",
       "      <td>-15</td>\n",
       "      <td>1610612764</td>\n",
       "      <td>WAS</td>\n",
       "      <td>Washington Wizards</td>\n",
       "      <td>24.379747</td>\n",
       "      <td>3.962025</td>\n",
       "      <td>...</td>\n",
       "      <td>0.109696</td>\n",
       "      <td>0.181316</td>\n",
       "      <td>0.155329</td>\n",
       "      <td>0.365139</td>\n",
       "      <td>0.514785</td>\n",
       "      <td>0.164797</td>\n",
       "      <td>0.414405</td>\n",
       "      <td>2016-04-10</td>\n",
       "      <td>-3.620253</td>\n",
       "      <td>15</td>\n",
       "    </tr>\n",
       "    <tr>\n",
       "      <th>409</th>\n",
       "      <td>21501221</td>\n",
       "      <td>2016-04-13</td>\n",
       "      <td>WAS vs. ATL</td>\n",
       "      <td>11</td>\n",
       "      <td>-11</td>\n",
       "      <td>1610612764</td>\n",
       "      <td>WAS</td>\n",
       "      <td>Washington Wizards</td>\n",
       "      <td>24.444444</td>\n",
       "      <td>3.938272</td>\n",
       "      <td>...</td>\n",
       "      <td>0.142617</td>\n",
       "      <td>0.150753</td>\n",
       "      <td>0.180259</td>\n",
       "      <td>0.422469</td>\n",
       "      <td>0.423494</td>\n",
       "      <td>0.102938</td>\n",
       "      <td>0.340185</td>\n",
       "      <td>2016-04-13</td>\n",
       "      <td>-4.432099</td>\n",
       "      <td>11</td>\n",
       "    </tr>\n",
       "  </tbody>\n",
       "</table>\n",
       "<p>21 rows × 146 columns</p>\n",
       "</div>"
      ],
      "text/plain": [
       "<div>\n",
       "<table border=\"1\" class=\"dataframe\">\n",
       "  <thead>\n",
       "    <tr style=\"text-align: right;\">\n",
       "      <th></th>\n",
       "      <th>GAME_ID</th>\n",
       "      <th>GAME_DATE_HOME</th>\n",
       "      <th>MATCHUP_HOME</th>\n",
       "      <th>PLUS_MINUS_HOME</th>\n",
       "      <th>PLUS_MINUS_AWAY</th>\n",
       "      <th>TEAM_ID_HOME</th>\n",
       "      <th>TEAM_ABBREVIATION_HOME</th>\n",
       "      <th>TEAM_NAME_HOME</th>\n",
       "      <th>AST_mean_HOME</th>\n",
       "      <th>BLK_mean_HOME</th>\n",
       "      <th>...</th>\n",
       "      <th>PCT_PTS_FB_mean_AWAY</th>\n",
       "      <th>PCT_PTS_FT_mean_AWAY</th>\n",
       "      <th>PCT_PTS_OFF_TOV_mean_AWAY</th>\n",
       "      <th>PCT_PTS_PAINT_mean_AWAY</th>\n",
       "      <th>PCT_UAST_2PM_mean_AWAY</th>\n",
       "      <th>PCT_UAST_3PM_mean_AWAY</th>\n",
       "      <th>PCT_UAST_FGM_mean_AWAY</th>\n",
       "      <th>GAME_DATE</th>\n",
       "      <th>AVG_SPREAD_mean</th>\n",
       "      <th>ACTUAL_SPREAD</th>\n",
       "    </tr>\n",
       "  </thead>\n",
       "  <tbody>\n",
       "    <tr>\n",
       "      <th>615</th>\n",
       "      <td>21500034</td>\n",
       "      <td>2015-10-31</td>\n",
       "      <td>WAS vs. NYK</td>\n",
       "      <td>-7</td>\n",
       "      <td>7</td>\n",
       "      <td>1610612764</td>\n",
       "      <td>WAS</td>\n",
       "      <td>Washington Wizards</td>\n",
       "      <td>21.000000</td>\n",
       "      <td>7.000000</td>\n",
       "      <td>...</td>\n",
       "      <td>0.162000</td>\n",
       "      <td>0.213000</td>\n",
       "      <td>0.177000</td>\n",
       "      <td>0.442500</td>\n",
       "      <td>0.522500</td>\n",
       "      <td>0.083500</td>\n",
       "      <td>0.438000</td>\n",
       "      <td>2015-10-31</td>\n",
       "      <td>-4.000000</td>\n",
       "      <td>-7</td>\n",
       "    </tr>\n",
       "    <tr>\n",
       "      <th>500</th>\n",
       "      <td>21500061</td>\n",
       "      <td>2015-11-04</td>\n",
       "      <td>WAS vs. SAS</td>\n",
       "      <td>3</td>\n",
       "      <td>-3</td>\n",
       "      <td>1610612764</td>\n",
       "      <td>WAS</td>\n",
       "      <td>Washington Wizards</td>\n",
       "      <td>19.666667</td>\n",
       "      <td>5.666667</td>\n",
       "      <td>...</td>\n",
       "      <td>0.069500</td>\n",
       "      <td>0.137000</td>\n",
       "      <td>0.123000</td>\n",
       "      <td>0.474750</td>\n",
       "      <td>0.515250</td>\n",
       "      <td>0.062500</td>\n",
       "      <td>0.446750</td>\n",
       "      <td>2015-11-04</td>\n",
       "      <td>-10.083333</td>\n",
       "      <td>3</td>\n",
       "    </tr>\n",
       "    <tr>\n",
       "      <th>838</th>\n",
       "      <td>21500139</td>\n",
       "      <td>2015-11-14</td>\n",
       "      <td>WAS vs. ORL</td>\n",
       "      <td>9</td>\n",
       "      <td>-9</td>\n",
       "      <td>1610612764</td>\n",
       "      <td>WAS</td>\n",
       "      <td>Washington Wizards</td>\n",
       "      <td>21.857143</td>\n",
       "      <td>5.142857</td>\n",
       "      <td>...</td>\n",
       "      <td>0.135900</td>\n",
       "      <td>0.155900</td>\n",
       "      <td>0.193000</td>\n",
       "      <td>0.422800</td>\n",
       "      <td>0.518600</td>\n",
       "      <td>0.102500</td>\n",
       "      <td>0.417400</td>\n",
       "      <td>2015-11-14</td>\n",
       "      <td>-8.742857</td>\n",
       "      <td>9</td>\n",
       "    </tr>\n",
       "    <tr>\n",
       "      <th>1017</th>\n",
       "      <td>21500158</td>\n",
       "      <td>2015-11-17</td>\n",
       "      <td>WAS vs. MIL</td>\n",
       "      <td>29</td>\n",
       "      <td>-29</td>\n",
       "      <td>1610612764</td>\n",
       "      <td>WAS</td>\n",
       "      <td>Washington Wizards</td>\n",
       "      <td>22.750000</td>\n",
       "      <td>5.250000</td>\n",
       "      <td>...</td>\n",
       "      <td>0.117900</td>\n",
       "      <td>0.190000</td>\n",
       "      <td>0.215400</td>\n",
       "      <td>0.463200</td>\n",
       "      <td>0.445900</td>\n",
       "      <td>0.064700</td>\n",
       "      <td>0.372400</td>\n",
       "      <td>2015-11-17</td>\n",
       "      <td>-2.300000</td>\n",
       "      <td>29</td>\n",
       "    </tr>\n",
       "    <tr>\n",
       "      <th>294</th>\n",
       "      <td>21500209</td>\n",
       "      <td>2015-11-24</td>\n",
       "      <td>WAS vs. IND</td>\n",
       "      <td>-17</td>\n",
       "      <td>17</td>\n",
       "      <td>1610612764</td>\n",
       "      <td>WAS</td>\n",
       "      <td>Washington Wizards</td>\n",
       "      <td>22.900000</td>\n",
       "      <td>4.500000</td>\n",
       "      <td>...</td>\n",
       "      <td>0.136846</td>\n",
       "      <td>0.169308</td>\n",
       "      <td>0.195231</td>\n",
       "      <td>0.360846</td>\n",
       "      <td>0.513462</td>\n",
       "      <td>0.104615</td>\n",
       "      <td>0.420000</td>\n",
       "      <td>2015-11-24</td>\n",
       "      <td>-6.853846</td>\n",
       "      <td>-17</td>\n",
       "    </tr>\n",
       "    <tr>\n",
       "      <th>600</th>\n",
       "      <td>21500269</td>\n",
       "      <td>2015-12-02</td>\n",
       "      <td>WAS vs. LAL</td>\n",
       "      <td>-4</td>\n",
       "      <td>4</td>\n",
       "      <td>1610612764</td>\n",
       "      <td>WAS</td>\n",
       "      <td>Washington Wizards</td>\n",
       "      <td>22.000000</td>\n",
       "      <td>4.133333</td>\n",
       "      <td>...</td>\n",
       "      <td>0.109765</td>\n",
       "      <td>0.199706</td>\n",
       "      <td>0.142529</td>\n",
       "      <td>0.365000</td>\n",
       "      <td>0.554882</td>\n",
       "      <td>0.163471</td>\n",
       "      <td>0.463647</td>\n",
       "      <td>2015-12-02</td>\n",
       "      <td>4.384314</td>\n",
       "      <td>-4</td>\n",
       "    </tr>\n",
       "    <tr>\n",
       "      <th>387</th>\n",
       "      <td>21500284</td>\n",
       "      <td>2015-12-04</td>\n",
       "      <td>WAS vs. PHX</td>\n",
       "      <td>3</td>\n",
       "      <td>-3</td>\n",
       "      <td>1610612764</td>\n",
       "      <td>WAS</td>\n",
       "      <td>Washington Wizards</td>\n",
       "      <td>22.125000</td>\n",
       "      <td>4.000000</td>\n",
       "      <td>...</td>\n",
       "      <td>0.152737</td>\n",
       "      <td>0.160947</td>\n",
       "      <td>0.164263</td>\n",
       "      <td>0.411947</td>\n",
       "      <td>0.578947</td>\n",
       "      <td>0.193474</td>\n",
       "      <td>0.478579</td>\n",
       "      <td>2015-12-04</td>\n",
       "      <td>-5.161184</td>\n",
       "      <td>3</td>\n",
       "    </tr>\n",
       "    <tr>\n",
       "      <th>700</th>\n",
       "      <td>21500321</td>\n",
       "      <td>2015-12-09</td>\n",
       "      <td>WAS vs. HOU</td>\n",
       "      <td>-6</td>\n",
       "      <td>6</td>\n",
       "      <td>1610612764</td>\n",
       "      <td>WAS</td>\n",
       "      <td>Washington Wizards</td>\n",
       "      <td>22.000000</td>\n",
       "      <td>3.578947</td>\n",
       "      <td>...</td>\n",
       "      <td>0.151545</td>\n",
       "      <td>0.206091</td>\n",
       "      <td>0.179591</td>\n",
       "      <td>0.422682</td>\n",
       "      <td>0.499000</td>\n",
       "      <td>0.208591</td>\n",
       "      <td>0.418636</td>\n",
       "      <td>2015-12-09</td>\n",
       "      <td>0.566986</td>\n",
       "      <td>-6</td>\n",
       "    </tr>\n",
       "    <tr>\n",
       "      <th>693</th>\n",
       "      <td>21500399</td>\n",
       "      <td>2015-12-19</td>\n",
       "      <td>WAS vs. CHA</td>\n",
       "      <td>8</td>\n",
       "      <td>-8</td>\n",
       "      <td>1610612764</td>\n",
       "      <td>WAS</td>\n",
       "      <td>Washington Wizards</td>\n",
       "      <td>22.583333</td>\n",
       "      <td>3.541667</td>\n",
       "      <td>...</td>\n",
       "      <td>0.088000</td>\n",
       "      <td>0.172520</td>\n",
       "      <td>0.165120</td>\n",
       "      <td>0.370240</td>\n",
       "      <td>0.518240</td>\n",
       "      <td>0.150840</td>\n",
       "      <td>0.416680</td>\n",
       "      <td>2015-12-19</td>\n",
       "      <td>-8.910000</td>\n",
       "      <td>8</td>\n",
       "    </tr>\n",
       "    <tr>\n",
       "      <th>474</th>\n",
       "      <td>21500410</td>\n",
       "      <td>2015-12-21</td>\n",
       "      <td>WAS vs. SAC</td>\n",
       "      <td>14</td>\n",
       "      <td>-14</td>\n",
       "      <td>1610612764</td>\n",
       "      <td>WAS</td>\n",
       "      <td>Washington Wizards</td>\n",
       "      <td>22.720000</td>\n",
       "      <td>3.560000</td>\n",
       "      <td>...</td>\n",
       "      <td>0.167037</td>\n",
       "      <td>0.166593</td>\n",
       "      <td>0.174593</td>\n",
       "      <td>0.461963</td>\n",
       "      <td>0.452667</td>\n",
       "      <td>0.120778</td>\n",
       "      <td>0.381444</td>\n",
       "      <td>2015-12-21</td>\n",
       "      <td>-1.943704</td>\n",
       "      <td>14</td>\n",
       "    </tr>\n",
       "    <tr>\n",
       "      <th>363</th>\n",
       "      <td>21500490</td>\n",
       "      <td>2016-01-01</td>\n",
       "      <td>WAS vs. ORL</td>\n",
       "      <td>12</td>\n",
       "      <td>-12</td>\n",
       "      <td>1610612764</td>\n",
       "      <td>WAS</td>\n",
       "      <td>Washington Wizards</td>\n",
       "      <td>23.333333</td>\n",
       "      <td>3.600000</td>\n",
       "      <td>...</td>\n",
       "      <td>0.118375</td>\n",
       "      <td>0.142906</td>\n",
       "      <td>0.180906</td>\n",
       "      <td>0.440969</td>\n",
       "      <td>0.501313</td>\n",
       "      <td>0.115406</td>\n",
       "      <td>0.421375</td>\n",
       "      <td>2016-01-01</td>\n",
       "      <td>-5.558333</td>\n",
       "      <td>12</td>\n",
       "    </tr>\n",
       "    <tr>\n",
       "      <th>353</th>\n",
       "      <td>21500617</td>\n",
       "      <td>2016-01-18</td>\n",
       "      <td>WAS vs. POR</td>\n",
       "      <td>-10</td>\n",
       "      <td>10</td>\n",
       "      <td>1610612764</td>\n",
       "      <td>WAS</td>\n",
       "      <td>Washington Wizards</td>\n",
       "      <td>23.871795</td>\n",
       "      <td>3.743590</td>\n",
       "      <td>...</td>\n",
       "      <td>0.099349</td>\n",
       "      <td>0.156349</td>\n",
       "      <td>0.134395</td>\n",
       "      <td>0.377651</td>\n",
       "      <td>0.521302</td>\n",
       "      <td>0.231837</td>\n",
       "      <td>0.445930</td>\n",
       "      <td>2016-01-18</td>\n",
       "      <td>-0.344067</td>\n",
       "      <td>-10</td>\n",
       "    </tr>\n",
       "    <tr>\n",
       "      <th>203</th>\n",
       "      <td>21500630</td>\n",
       "      <td>2016-01-20</td>\n",
       "      <td>WAS vs. MIA</td>\n",
       "      <td>19</td>\n",
       "      <td>-19</td>\n",
       "      <td>1610612764</td>\n",
       "      <td>WAS</td>\n",
       "      <td>Washington Wizards</td>\n",
       "      <td>23.900000</td>\n",
       "      <td>3.725000</td>\n",
       "      <td>...</td>\n",
       "      <td>0.108357</td>\n",
       "      <td>0.174310</td>\n",
       "      <td>0.156714</td>\n",
       "      <td>0.447905</td>\n",
       "      <td>0.537786</td>\n",
       "      <td>0.072667</td>\n",
       "      <td>0.453143</td>\n",
       "      <td>2016-01-20</td>\n",
       "      <td>-2.721429</td>\n",
       "      <td>19</td>\n",
       "    </tr>\n",
       "    <tr>\n",
       "      <th>443</th>\n",
       "      <td>21500654</td>\n",
       "      <td>2016-02-18</td>\n",
       "      <td>WAS vs. UTA</td>\n",
       "      <td>14</td>\n",
       "      <td>-14</td>\n",
       "      <td>1610612764</td>\n",
       "      <td>WAS</td>\n",
       "      <td>Washington Wizards</td>\n",
       "      <td>23.980392</td>\n",
       "      <td>3.843137</td>\n",
       "      <td>...</td>\n",
       "      <td>0.094712</td>\n",
       "      <td>0.182288</td>\n",
       "      <td>0.164788</td>\n",
       "      <td>0.415288</td>\n",
       "      <td>0.583038</td>\n",
       "      <td>0.194308</td>\n",
       "      <td>0.488788</td>\n",
       "      <td>2016-02-18</td>\n",
       "      <td>-4.051659</td>\n",
       "      <td>14</td>\n",
       "    </tr>\n",
       "    <tr>\n",
       "      <th>563</th>\n",
       "      <td>21500693</td>\n",
       "      <td>2016-01-28</td>\n",
       "      <td>WAS vs. DEN</td>\n",
       "      <td>-4</td>\n",
       "      <td>4</td>\n",
       "      <td>1610612764</td>\n",
       "      <td>WAS</td>\n",
       "      <td>Washington Wizards</td>\n",
       "      <td>23.883721</td>\n",
       "      <td>3.674419</td>\n",
       "      <td>...</td>\n",
       "      <td>0.125478</td>\n",
       "      <td>0.183717</td>\n",
       "      <td>0.154370</td>\n",
       "      <td>0.437000</td>\n",
       "      <td>0.449022</td>\n",
       "      <td>0.182565</td>\n",
       "      <td>0.392804</td>\n",
       "      <td>2016-01-28</td>\n",
       "      <td>1.682508</td>\n",
       "      <td>-4</td>\n",
       "    </tr>\n",
       "    <tr>\n",
       "      <th>767</th>\n",
       "      <td>21500877</td>\n",
       "      <td>2016-02-28</td>\n",
       "      <td>WAS vs. CLE</td>\n",
       "      <td>14</td>\n",
       "      <td>-14</td>\n",
       "      <td>1610612764</td>\n",
       "      <td>WAS</td>\n",
       "      <td>Washington Wizards</td>\n",
       "      <td>23.842105</td>\n",
       "      <td>4.052632</td>\n",
       "      <td>...</td>\n",
       "      <td>0.118807</td>\n",
       "      <td>0.154965</td>\n",
       "      <td>0.159825</td>\n",
       "      <td>0.398053</td>\n",
       "      <td>0.519860</td>\n",
       "      <td>0.138158</td>\n",
       "      <td>0.420193</td>\n",
       "      <td>2016-02-28</td>\n",
       "      <td>-7.912281</td>\n",
       "      <td>14</td>\n",
       "    </tr>\n",
       "    <tr>\n",
       "      <th>762</th>\n",
       "      <td>21500924</td>\n",
       "      <td>2016-03-05</td>\n",
       "      <td>WAS vs. IND</td>\n",
       "      <td>-1</td>\n",
       "      <td>1</td>\n",
       "      <td>1610612764</td>\n",
       "      <td>WAS</td>\n",
       "      <td>Washington Wizards</td>\n",
       "      <td>23.786885</td>\n",
       "      <td>4.049180</td>\n",
       "      <td>...</td>\n",
       "      <td>0.133097</td>\n",
       "      <td>0.172210</td>\n",
       "      <td>0.187710</td>\n",
       "      <td>0.396516</td>\n",
       "      <td>0.523484</td>\n",
       "      <td>0.227952</td>\n",
       "      <td>0.462548</td>\n",
       "      <td>2016-03-05</td>\n",
       "      <td>-3.382337</td>\n",
       "      <td>-1</td>\n",
       "    </tr>\n",
       "    <tr>\n",
       "      <th>14</th>\n",
       "      <td>21500989</td>\n",
       "      <td>2016-03-14</td>\n",
       "      <td>WAS vs. DET</td>\n",
       "      <td>43</td>\n",
       "      <td>-43</td>\n",
       "      <td>1610612764</td>\n",
       "      <td>WAS</td>\n",
       "      <td>Washington Wizards</td>\n",
       "      <td>23.723077</td>\n",
       "      <td>4.000000</td>\n",
       "      <td>...</td>\n",
       "      <td>0.111939</td>\n",
       "      <td>0.161061</td>\n",
       "      <td>0.155303</td>\n",
       "      <td>0.433591</td>\n",
       "      <td>0.593364</td>\n",
       "      <td>0.217091</td>\n",
       "      <td>0.503045</td>\n",
       "      <td>2016-03-14</td>\n",
       "      <td>-3.428671</td>\n",
       "      <td>43</td>\n",
       "    </tr>\n",
       "    <tr>\n",
       "      <th>13</th>\n",
       "      <td>21501073</td>\n",
       "      <td>2016-03-25</td>\n",
       "      <td>WAS vs. MIN</td>\n",
       "      <td>-3</td>\n",
       "      <td>3</td>\n",
       "      <td>1610612764</td>\n",
       "      <td>WAS</td>\n",
       "      <td>Washington Wizards</td>\n",
       "      <td>23.971831</td>\n",
       "      <td>3.929577</td>\n",
       "      <td>...</td>\n",
       "      <td>0.130085</td>\n",
       "      <td>0.212423</td>\n",
       "      <td>0.157887</td>\n",
       "      <td>0.428225</td>\n",
       "      <td>0.424535</td>\n",
       "      <td>0.148338</td>\n",
       "      <td>0.386690</td>\n",
       "      <td>2016-03-25</td>\n",
       "      <td>2.774648</td>\n",
       "      <td>-3</td>\n",
       "    </tr>\n",
       "    <tr>\n",
       "      <th>411</th>\n",
       "      <td>21501194</td>\n",
       "      <td>2016-04-10</td>\n",
       "      <td>WAS vs. CHA</td>\n",
       "      <td>15</td>\n",
       "      <td>-15</td>\n",
       "      <td>1610612764</td>\n",
       "      <td>WAS</td>\n",
       "      <td>Washington Wizards</td>\n",
       "      <td>24.379747</td>\n",
       "      <td>3.962025</td>\n",
       "      <td>...</td>\n",
       "      <td>0.109696</td>\n",
       "      <td>0.181316</td>\n",
       "      <td>0.155329</td>\n",
       "      <td>0.365139</td>\n",
       "      <td>0.514785</td>\n",
       "      <td>0.164797</td>\n",
       "      <td>0.414405</td>\n",
       "      <td>2016-04-10</td>\n",
       "      <td>-3.620253</td>\n",
       "      <td>15</td>\n",
       "    </tr>\n",
       "    <tr>\n",
       "      <th>409</th>\n",
       "      <td>21501221</td>\n",
       "      <td>2016-04-13</td>\n",
       "      <td>WAS vs. ATL</td>\n",
       "      <td>11</td>\n",
       "      <td>-11</td>\n",
       "      <td>1610612764</td>\n",
       "      <td>WAS</td>\n",
       "      <td>Washington Wizards</td>\n",
       "      <td>24.444444</td>\n",
       "      <td>3.938272</td>\n",
       "      <td>...</td>\n",
       "      <td>0.142617</td>\n",
       "      <td>0.150753</td>\n",
       "      <td>0.180259</td>\n",
       "      <td>0.422469</td>\n",
       "      <td>0.423494</td>\n",
       "      <td>0.102938</td>\n",
       "      <td>0.340185</td>\n",
       "      <td>2016-04-13</td>\n",
       "      <td>-4.432099</td>\n",
       "      <td>11</td>\n",
       "    </tr>\n",
       "  </tbody>\n",
       "</table>\n",
       "<p>21 rows × 146 columns</p>\n",
       "</div>"
      ]
     },
     "execution_count": 614,
     "metadata": {},
     "output_type": "execute_result"
    }
   ],
   "source": [
    "df_val.ix[ind]."
   ]
  },
  {
   "cell_type": "code",
   "execution_count": null,
   "metadata": {},
   "outputs": [],
   "source": [
    ""
   ]
  },
  {
   "cell_type": "code",
   "execution_count": null,
   "metadata": {},
   "outputs": [],
   "source": [
    ""
   ]
  }
 ],
 "metadata": {
  "kernelspec": {
   "display_name": "Python 2",
   "language": "python",
   "name": "python2"
  },
  "language_info": {
   "codemirror_mode": {
    "name": "ipython",
    "version": 2.0
   },
   "file_extension": ".py",
   "mimetype": "text/x-python",
   "name": "python",
   "nbconvert_exporter": "python",
   "pygments_lexer": "ipython2",
   "version": "2.7.13"
  }
 },
 "nbformat": 4,
 "nbformat_minor": 0
}